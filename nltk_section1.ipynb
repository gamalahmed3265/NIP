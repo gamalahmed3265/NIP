{
 "cells": [
  {
   "cell_type": "code",
   "execution_count": 16,
   "id": "200a574d",
   "metadata": {},
   "outputs": [],
   "source": [
    "import nltk\n",
    "\n",
    "from nltk.tokenize import word_tokenize \n",
    "from nltk.tokenize import sent_tokenize "
   ]
  },
  {
   "cell_type": "code",
   "execution_count": 13,
   "id": "a25681b7",
   "metadata": {},
   "outputs": [
    {
     "data": {
      "text/plain": [
       "'3.7'"
      ]
     },
     "execution_count": 13,
     "metadata": {},
     "output_type": "execute_result"
    }
   ],
   "source": [
    "nltk.__version__\n"
   ]
  },
  {
   "cell_type": "code",
   "execution_count": 18,
   "id": "1b4d91da",
   "metadata": {},
   "outputs": [],
   "source": [
    "p=\"For my random act of kindness I paid toll for the man behind me.\""
   ]
  },
  {
   "cell_type": "code",
   "execution_count": 25,
   "id": "857d6198",
   "metadata": {},
   "outputs": [
    {
     "data": {
      "text/plain": [
       "['For',\n",
       " 'my',\n",
       " 'random',\n",
       " 'act',\n",
       " 'of',\n",
       " 'kindness',\n",
       " 'I',\n",
       " 'paid',\n",
       " 'toll',\n",
       " 'for',\n",
       " 'the',\n",
       " 'man',\n",
       " 'behind',\n",
       " 'me',\n",
       " '.']"
      ]
     },
     "execution_count": 25,
     "metadata": {},
     "output_type": "execute_result"
    }
   ],
   "source": [
    "nltk.word_tokenize(p)"
   ]
  },
  {
   "cell_type": "code",
   "execution_count": 26,
   "id": "8a2847be",
   "metadata": {},
   "outputs": [
    {
     "data": {
      "text/plain": [
       "['For my random act of kindness I paid toll for the man behind me.']"
      ]
     },
     "execution_count": 26,
     "metadata": {},
     "output_type": "execute_result"
    }
   ],
   "source": [
    "sent_tokenize(p)"
   ]
  },
  {
   "cell_type": "code",
   "execution_count": 28,
   "id": "80d58dc3",
   "metadata": {},
   "outputs": [],
   "source": [
    "#nltk.download('punkt')\n",
    "#nltk.download()"
   ]
  },
  {
   "cell_type": "code",
   "execution_count": null,
   "id": "56f1cb38",
   "metadata": {},
   "outputs": [],
   "source": []
  }
 ],
 "metadata": {
  "kernelspec": {
   "display_name": "Python 3 (ipykernel)",
   "language": "python",
   "name": "python3"
  },
  "language_info": {
   "codemirror_mode": {
    "name": "ipython",
    "version": 3
   },
   "file_extension": ".py",
   "mimetype": "text/x-python",
   "name": "python",
   "nbconvert_exporter": "python",
   "pygments_lexer": "ipython3",
   "version": "3.9.12"
  }
 },
 "nbformat": 4,
 "nbformat_minor": 5
}
