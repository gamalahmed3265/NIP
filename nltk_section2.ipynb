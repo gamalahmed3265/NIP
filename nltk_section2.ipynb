{
 "cells": [
  {
   "cell_type": "code",
   "execution_count": 29,
   "id": "102515cc",
   "metadata": {},
   "outputs": [],
   "source": [
    "import nltk\n",
    "\n",
    "from nltk.tokenize import word_tokenize \n",
    "from nltk.tokenize import sent_tokenize \n",
    "from nltk.tokenize import WordPunctTokenizer\n",
    "from nltk.tokenize import RegexpTokenizer  "
   ]
  },
  {
   "cell_type": "code",
   "execution_count": 30,
   "id": "f34b43ca",
   "metadata": {},
   "outputs": [],
   "source": [
    "wordPunctTokenizer=WordPunctTokenizer()"
   ]
  },
  {
   "cell_type": "code",
   "execution_count": 31,
   "id": "5ae5232d",
   "metadata": {},
   "outputs": [],
   "source": [
    "p=\"For my random act of kindness I paid toll for the man behind me.\""
   ]
  },
  {
   "cell_type": "code",
   "execution_count": 32,
   "id": "ecfed320",
   "metadata": {},
   "outputs": [
    {
     "data": {
      "text/plain": [
       "['For',\n",
       " 'my',\n",
       " 'random',\n",
       " 'act',\n",
       " 'of',\n",
       " 'kindness',\n",
       " 'I',\n",
       " 'paid',\n",
       " 'toll',\n",
       " 'for',\n",
       " 'the',\n",
       " 'man',\n",
       " 'behind',\n",
       " 'me',\n",
       " '.']"
      ]
     },
     "execution_count": 32,
     "metadata": {},
     "output_type": "execute_result"
    }
   ],
   "source": [
    "wordPunctTokenizer.tokenize(p)"
   ]
  },
  {
   "cell_type": "code",
   "execution_count": 42,
   "id": "5f5f9f99",
   "metadata": {},
   "outputs": [
    {
     "data": {
      "text/plain": [
       "['For',\n",
       " 'my',\n",
       " 'random',\n",
       " 'act',\n",
       " 'of',\n",
       " 'kindness',\n",
       " 'I',\n",
       " 'paid',\n",
       " 'toll',\n",
       " 'for',\n",
       " 'the',\n",
       " 'man',\n",
       " 'behind',\n",
       " 'me']"
      ]
     },
     "execution_count": 42,
     "metadata": {},
     "output_type": "execute_result"
    }
   ],
   "source": [
    "regexpTokenizer=RegexpTokenizer(\"[A-Za-z0-9_']+\")\n",
    "regexpTokenizer.tokenize(p)"
   ]
  },
  {
   "cell_type": "code",
   "execution_count": 43,
   "id": "73ba2846",
   "metadata": {},
   "outputs": [
    {
     "data": {
      "text/plain": [
       "['For',\n",
       " 'my',\n",
       " 'random',\n",
       " 'act',\n",
       " 'of',\n",
       " 'kindness',\n",
       " 'I',\n",
       " 'paid',\n",
       " 'toll',\n",
       " 'for',\n",
       " 'the',\n",
       " 'man',\n",
       " 'behind',\n",
       " 'me.']"
      ]
     },
     "execution_count": 43,
     "metadata": {},
     "output_type": "execute_result"
    }
   ],
   "source": [
    "regexpTokenizer=RegexpTokenizer('\\s+',gaps=True)\n",
    "regexpTokenizer.tokenize(p)"
   ]
  },
  {
   "cell_type": "code",
   "execution_count": 44,
   "id": "1dae005e",
   "metadata": {},
   "outputs": [
    {
     "data": {
      "text/plain": [
       "['For',\n",
       " 'my',\n",
       " 'random',\n",
       " 'act',\n",
       " 'of',\n",
       " 'kindness',\n",
       " 'I',\n",
       " 'paid',\n",
       " 'toll',\n",
       " 'for',\n",
       " 'the',\n",
       " 'man',\n",
       " 'behind',\n",
       " 'me.']"
      ]
     },
     "execution_count": 44,
     "metadata": {},
     "output_type": "execute_result"
    }
   ],
   "source": [
    "regexpTokenizer=RegexpTokenizer('[ ]+',gaps=True)\n",
    "regexpTokenizer.tokenize(p)"
   ]
  },
  {
   "cell_type": "code",
   "execution_count": 47,
   "id": "c89dd86e",
   "metadata": {},
   "outputs": [
    {
     "data": {
      "text/plain": [
       "['hi',\n",
       " ',',\n",
       " 'my',\n",
       " 'name',\n",
       " 'is',\n",
       " 'gamal',\n",
       " ',',\n",
       " 'I',\n",
       " \"'M\",\n",
       " 'study',\n",
       " 'in',\n",
       " 'FCI-ZU',\n",
       " ',']"
      ]
     },
     "execution_count": 47,
     "metadata": {},
     "output_type": "execute_result"
    }
   ],
   "source": [
    "#task1\n",
    "from nltk.tokenize import TreebankWordTokenizer\n",
    "s = \"hi, my name is gamal , I'M study in FCI-ZU,\"\n",
    "TreebankWordTokenizer().tokenize(s)"
   ]
  },
  {
   "cell_type": "code",
   "execution_count": 48,
   "id": "d9ef1c2c",
   "metadata": {},
   "outputs": [
    {
     "name": "stdout",
     "output_type": "stream",
     "text": [
      "['Ich bin ein Berliner.', 'Ich bin ein Hamburger.']\n",
      "[['Ich', 'bin', 'ein', 'Berliner', '.'], ['Ich', 'bin', 'ein', 'Hamburger', '.']]\n"
     ]
    }
   ],
   "source": [
    "#task 2\n",
    "text = \"Ich bin ein Berliner. Ich bin ein Hamburger.\"\n",
    "sentences = sent_tokenize(text, language='german')\n",
    "words = [word_tokenize(sent, language='german') for sent in sentences]\n",
    "\n",
    "print(sentences)\n",
    "print(words)"
   ]
  }
 ],
 "metadata": {
  "kernelspec": {
   "display_name": "Python 3 (ipykernel)",
   "language": "python",
   "name": "python3"
  },
  "language_info": {
   "codemirror_mode": {
    "name": "ipython",
    "version": 3
   },
   "file_extension": ".py",
   "mimetype": "text/x-python",
   "name": "python",
   "nbconvert_exporter": "python",
   "pygments_lexer": "ipython3",
   "version": "3.9.12"
  }
 },
 "nbformat": 4,
 "nbformat_minor": 5
}
